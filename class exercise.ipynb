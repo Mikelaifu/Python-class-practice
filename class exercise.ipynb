{
 "cells": [
  {
   "cell_type": "code",
   "execution_count": 1,
   "metadata": {},
   "outputs": [],
   "source": [
    "class BankAccount(object):\n",
    "    balance = 0\n",
    "    def __init__(self, name):\n",
    "            self.name = name\n",
    "    \n",
    "    def __repr__(self):\n",
    "            return \"%s's account. balance: $%.2f\"% (self.name, self.balance)\n",
    "  \n",
    "    def show_balance(self):\n",
    "        return \"balance: $%.2f\" % (self.balance)\n",
    "    \n",
    "    def deposit(self, amount):\n",
    "            if amount <= 0:\n",
    "                print(\"Error Message\")\n",
    "      \n",
    "            else :\n",
    "                self.balance += amount  \n",
    "                return self.show_balance()\n",
    "                \n",
    "    def withdraw(self,amount):\n",
    "            if amount >= self.balance:\n",
    "                print(\"Error Message\")\n",
    "            else:\n",
    "                print( \"withdrawl amount: $%.2f\" % (amount))\n",
    "                self.balance -= amount\n",
    "                return self.show_balance() \n",
    "        \n",
    "      \n",
    "    "
   ]
  },
  {
   "cell_type": "code",
   "execution_count": 2,
   "metadata": {},
   "outputs": [
    {
     "data": {
      "text/plain": [
       "'balance: $0.00'"
      ]
     },
     "execution_count": 2,
     "metadata": {},
     "output_type": "execute_result"
    }
   ],
   "source": [
    "my_account = BankAccount(\"Laifu\")\n",
    "#print(my_account)\n",
    "my_account.show_balance()\n"
   ]
  },
  {
   "cell_type": "code",
   "execution_count": 3,
   "metadata": {},
   "outputs": [
    {
     "name": "stdout",
     "output_type": "stream",
     "text": [
      "balance: $2000.00\n"
     ]
    }
   ],
   "source": [
    "print(my_account.deposit(2000))"
   ]
  },
  {
   "cell_type": "code",
   "execution_count": 4,
   "metadata": {},
   "outputs": [
    {
     "name": "stdout",
     "output_type": "stream",
     "text": [
      "2000\n"
     ]
    }
   ],
   "source": [
    "print(my_account.balance)"
   ]
  },
  {
   "cell_type": "code",
   "execution_count": 5,
   "metadata": {},
   "outputs": [
    {
     "name": "stdout",
     "output_type": "stream",
     "text": [
      "withdrawl amount: $1000.00\n",
      "balance: $1000.00\n"
     ]
    }
   ],
   "source": [
    "print(my_account.withdraw(1000))"
   ]
  },
  {
   "cell_type": "code",
   "execution_count": null,
   "metadata": {
    "collapsed": true
   },
   "outputs": [],
   "source": []
  },
  {
   "cell_type": "code",
   "execution_count": null,
   "metadata": {
    "collapsed": true
   },
   "outputs": [],
   "source": []
  }
 ],
 "metadata": {
  "kernelspec": {
   "display_name": "Python 3",
   "language": "python",
   "name": "python3"
  },
  "language_info": {
   "codemirror_mode": {
    "name": "ipython",
    "version": 3
   },
   "file_extension": ".py",
   "mimetype": "text/x-python",
   "name": "python",
   "nbconvert_exporter": "python",
   "pygments_lexer": "ipython3",
   "version": "3.6.4"
  }
 },
 "nbformat": 4,
 "nbformat_minor": 2
}
